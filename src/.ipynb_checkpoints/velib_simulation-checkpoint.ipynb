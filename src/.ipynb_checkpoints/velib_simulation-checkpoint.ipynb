{
 "cells": [
  {
   "cell_type": "markdown",
   "metadata": {},
   "source": [
    "# Velib system simulation"
   ]
  },
  {
   "cell_type": "markdown",
   "metadata": {},
   "source": [
    "*MPRO - FAT*\n",
    "\n",
    "*Guillaume Dalle & Julien Khamphousone*"
   ]
  },
  {
   "cell_type": "code",
   "execution_count": 1,
   "metadata": {
    "ExecuteTime": {
     "end_time": "2018-12-17T15:58:22.233000+01:00",
     "start_time": "2018-12-17T14:58:10.803Z"
    }
   },
   "outputs": [
    {
     "name": "stdout",
     "output_type": "stream",
     "text": [
      "Imports successful\n"
     ]
    }
   ],
   "source": [
    "include(\"data.jl\")\n",
    "include(\"colony.jl\")\n",
    "include(\"simulation.jl\")\n",
    "include(\"stationary.jl\")\n",
    "println(\"Imports successful\")"
   ]
  },
  {
   "cell_type": "markdown",
   "metadata": {},
   "source": [
    "## 3. Calibration"
   ]
  },
  {
   "cell_type": "code",
   "execution_count": 2,
   "metadata": {
    "ExecuteTime": {
     "end_time": "2018-12-17T15:58:26.276000+01:00",
     "start_time": "2018-12-17T14:58:10.804Z"
    }
   },
   "outputs": [
    {
     "data": {
      "text/plain": [
       "5×5 Array{Float64,2}:\n",
       " 0.0         0.0102667  0.0149333  0.00933333  0.0121333\n",
       " 0.0104833   0.0        0.0209667  0.01295     0.0172667\n",
       " 0.0174167   0.0238333  0.0        0.022       0.0284167\n",
       " 0.00991667  0.0128333  0.01925    0.0         0.0163333\n",
       " 0.0138      0.0184     0.0268333  0.0176333   0.0      "
      ]
     },
     "execution_count": 2,
     "metadata": {},
     "output_type": "execute_result"
    }
   ],
   "source": [
    "lambda_station_trip"
   ]
  },
  {
   "cell_type": "code",
   "execution_count": 3,
   "metadata": {
    "ExecuteTime": {
     "end_time": "2018-12-17T15:58:26.289000+01:00",
     "start_time": "2018-12-17T14:58:10.805Z"
    }
   },
   "outputs": [
    {
     "data": {
      "text/plain": [
       "5×5 Array{Float64,2}:\n",
       " 1.0842e-19  0.333333    0.2         0.142857    0.142857  \n",
       " 0.5         1.0842e-19  0.5         0.2         0.2       \n",
       " 0.25        0.5         1.0842e-19  0.333333    0.333333  \n",
       " 0.125       0.166667    0.25        1.0842e-19  0.5       \n",
       " 0.142857    0.142857    0.2         0.5         1.0842e-19"
      ]
     },
     "execution_count": 3,
     "metadata": {},
     "output_type": "execute_result"
    }
   ],
   "source": [
    "lambda_trip_station"
   ]
  },
  {
   "cell_type": "markdown",
   "metadata": {},
   "source": [
    "## 4. Simulation of a trajectory"
   ]
  },
  {
   "cell_type": "code",
   "execution_count": 4,
   "metadata": {
    "ExecuteTime": {
     "end_time": "2018-12-17T15:58:26.906000+01:00",
     "start_time": "2018-12-17T14:58:10.807Z"
    }
   },
   "outputs": [
    {
     "data": {
      "text/plain": [
       "5-element Array{Int64,1}:\n",
       " 20\n",
       " 16\n",
       " 17\n",
       " 13\n",
       " 18"
      ]
     },
     "execution_count": 4,
     "metadata": {},
     "output_type": "execute_result"
    }
   ],
   "source": [
    "nb_bikes_station"
   ]
  },
  {
   "cell_type": "code",
   "execution_count": 5,
   "metadata": {
    "ExecuteTime": {
     "end_time": "2018-12-17T15:58:27.696000+01:00",
     "start_time": "2018-12-17T14:58:10.808Z"
    }
   },
   "outputs": [
    {
     "data": {
      "text/plain": [
       "5×5 Array{Int64,2}:\n",
       " 0  1  0  0  0\n",
       " 1  0  1  0  0\n",
       " 0  1  0  1  0\n",
       " 0  0  1  0  1\n",
       " 0  0  0  1  0"
      ]
     },
     "execution_count": 5,
     "metadata": {},
     "output_type": "execute_result"
    }
   ],
   "source": [
    "nb_bikes_trip"
   ]
  },
  {
   "cell_type": "code",
   "execution_count": 6,
   "metadata": {
    "ExecuteTime": {
     "end_time": "2018-12-17T15:58:28.038000+01:00",
     "start_time": "2018-12-17T14:58:10.810Z"
    }
   },
   "outputs": [
    {
     "data": {
      "text/plain": [
       "9000.0"
      ]
     },
     "execution_count": 6,
     "metadata": {},
     "output_type": "execute_result"
    }
   ],
   "source": [
    "max_time = 150 * 60."
   ]
  },
  {
   "cell_type": "code",
   "execution_count": 7,
   "metadata": {
    "ExecuteTime": {
     "end_time": "2018-12-17T15:58:28.117000+01:00",
     "start_time": "2018-12-17T14:58:10.811Z"
    },
    "scrolled": true
   },
   "outputs": [],
   "source": [
    "col = Colonies(lambda_station_trip, lambda_trip_station);"
   ]
  },
  {
   "cell_type": "code",
   "execution_count": 8,
   "metadata": {
    "ExecuteTime": {
     "end_time": "2018-12-17T15:58:31.380000+01:00",
     "start_time": "2018-12-17T14:58:10.813Z"
    }
   },
   "outputs": [
    {
     "data": {
      "text/html": [
       "<table class=\"data-frame\"><thead><tr><th></th><th>time</th><th>transition_type</th><th>i</th><th>j</th></tr><tr><th></th><th>Float64</th><th>String</th><th>Int64</th><th>Int64</th></tr></thead><tbody><tr><th>1</th><td>0.118145</td><td>trip_station</td><td>1</td><td>2</td></tr><tr><th>2</th><td>0.74885</td><td>trip_station</td><td>2</td><td>3</td></tr><tr><th>3</th><td>1.20644</td><td>trip_station</td><td>2</td><td>1</td></tr><tr><th>4</th><td>1.58034</td><td>trip_station</td><td>5</td><td>4</td></tr><tr><th>5</th><td>3.06938</td><td>trip_station</td><td>4</td><td>5</td></tr><tr><th>6</th><td>3.39982</td><td>station_trip</td><td>3</td><td>2</td></tr></tbody></table>"
      ],
      "text/latex": [
       "\\begin{tabular}{r|cccc}\n",
       "\t& time & transition\\_type & i & j\\\\\n",
       "\t\\hline\n",
       "\t1 & 0.118145 & trip\\_station & 1 & 2 \\\\\n",
       "\t2 & 0.74885 & trip\\_station & 2 & 3 \\\\\n",
       "\t3 & 1.20644 & trip\\_station & 2 & 1 \\\\\n",
       "\t4 & 1.58034 & trip\\_station & 5 & 4 \\\\\n",
       "\t5 & 3.06938 & trip\\_station & 4 & 5 \\\\\n",
       "\t6 & 3.39982 & station\\_trip & 3 & 2 \\\\\n",
       "\\end{tabular}\n"
      ],
      "text/plain": [
       "6×4 DataFrame\n",
       "│ Row │ time     │ transition_type │ i     │ j     │\n",
       "│     │ \u001b[90mFloat64\u001b[39m  │ \u001b[90mString\u001b[39m          │ \u001b[90mInt64\u001b[39m │ \u001b[90mInt64\u001b[39m │\n",
       "├─────┼──────────┼─────────────────┼───────┼───────┤\n",
       "│ 1   │ 0.118145 │ trip_station    │ 1     │ 2     │\n",
       "│ 2   │ 0.74885  │ trip_station    │ 2     │ 3     │\n",
       "│ 3   │ 1.20644  │ trip_station    │ 2     │ 1     │\n",
       "│ 4   │ 1.58034  │ trip_station    │ 5     │ 4     │\n",
       "│ 5   │ 3.06938  │ trip_station    │ 4     │ 5     │\n",
       "│ 6   │ 3.39982  │ station_trip    │ 3     │ 2     │"
      ]
     },
     "execution_count": 8,
     "metadata": {},
     "output_type": "execute_result"
    }
   ],
   "source": [
    "new_col, transitions_history, empty_station_duration = simulate(\n",
    "    col, max_time, nb_bikes_station, nb_bikes_trip\n",
    ")\n",
    "head(transitions_history)"
   ]
  },
  {
   "cell_type": "markdown",
   "metadata": {},
   "source": [
    "## 5, 6, 8. Probability of emptiness and confidence intervals"
   ]
  },
  {
   "cell_type": "code",
   "execution_count": 9,
   "metadata": {
    "ExecuteTime": {
     "end_time": "2018-12-17T15:58:49.073000+01:00",
     "start_time": "2018-12-17T14:58:10.814Z"
    },
    "scrolled": true
   },
   "outputs": [
    {
     "name": "stderr",
     "output_type": "stream",
     "text": [
      "\u001b[32mSimulating trajectories 100%|███████████████████████████| Time: 0:00:17\u001b[39m\n"
     ]
    },
    {
     "data": {
      "text/html": [
       "<table class=\"data-frame\"><thead><tr><th></th><th>empty_end_freq</th><th>empty_end_freq_uncertainty</th><th>empty_duration_mean</th><th>empty_duration_mean_uncertainty</th></tr><tr><th></th><th>Float64</th><th>Float64</th><th>Float64</th><th>Float64</th></tr></thead><tbody><tr><th>1</th><td>0.014</td><td>0.00728578</td><td>0.00648221</td><td>0.00103234</td></tr><tr><th>2</th><td>0.037</td><td>0.0117054</td><td>0.0248982</td><td>0.00206318</td></tr><tr><th>3</th><td>0.157</td><td>0.0225599</td><td>0.124593</td><td>0.00284578</td></tr><tr><th>4</th><td>0.032</td><td>0.0109141</td><td>0.0266763</td><td>0.00210603</td></tr><tr><th>5</th><td>0.105</td><td>0.0190099</td><td>0.0762288</td><td>0.0028624</td></tr></tbody></table>"
      ],
      "text/latex": [
       "\\begin{tabular}{r|cccc}\n",
       "\t& empty\\_end\\_freq & empty\\_end\\_freq\\_uncertainty & empty\\_duration\\_mean & empty\\_duration\\_mean\\_uncertainty\\\\\n",
       "\t\\hline\n",
       "\t1 & 0.014 & 0.00728578 & 0.00648221 & 0.00103234 \\\\\n",
       "\t2 & 0.037 & 0.0117054 & 0.0248982 & 0.00206318 \\\\\n",
       "\t3 & 0.157 & 0.0225599 & 0.124593 & 0.00284578 \\\\\n",
       "\t4 & 0.032 & 0.0109141 & 0.0266763 & 0.00210603 \\\\\n",
       "\t5 & 0.105 & 0.0190099 & 0.0762288 & 0.0028624 \\\\\n",
       "\\end{tabular}\n"
      ],
      "text/plain": [
       "5×4 DataFrame. Omitted printing of 1 columns\n",
       "│ Row │ empty_end_freq │ empty_end_freq_uncertainty │ empty_duration_mean │\n",
       "│     │ \u001b[90mFloat64\u001b[39m        │ \u001b[90mFloat64\u001b[39m                    │ \u001b[90mFloat64\u001b[39m             │\n",
       "├─────┼────────────────┼────────────────────────────┼─────────────────────┤\n",
       "│ 1   │ 0.014          │ 0.00728578                 │ 0.00648221          │\n",
       "│ 2   │ 0.037          │ 0.0117054                  │ 0.0248982           │\n",
       "│ 3   │ 0.157          │ 0.0225599                  │ 0.124593            │\n",
       "│ 4   │ 0.032          │ 0.0109141                  │ 0.0266763           │\n",
       "│ 5   │ 0.105          │ 0.0190099                  │ 0.0762288           │"
      ]
     },
     "execution_count": 9,
     "metadata": {},
     "output_type": "execute_result"
    }
   ],
   "source": [
    "nb_simulations = 1000\n",
    "estimate_emptiness(col, max_time, nb_simulations, nb_bikes_station, nb_bikes_trip)"
   ]
  },
  {
   "cell_type": "markdown",
   "metadata": {},
   "source": [
    "## 7. Influence of initial conditions"
   ]
  },
  {
   "cell_type": "markdown",
   "metadata": {},
   "source": [
    "To be continued..."
   ]
  },
  {
   "cell_type": "markdown",
   "metadata": {},
   "source": [
    "## 10. Better precision"
   ]
  },
  {
   "cell_type": "markdown",
   "metadata": {},
   "source": [
    "To be continued..."
   ]
  },
  {
   "cell_type": "markdown",
   "metadata": {},
   "source": [
    "## 11. Traffic equations"
   ]
  },
  {
   "cell_type": "markdown",
   "metadata": {},
   "source": [
    "The traffic equations in this closed migration process are given by:\n",
    "\n",
    "\\begin{align}\n",
    "\\forall i, \\quad & \\alpha_i \\sum_{j \\neq i}{\\lambda_{i t_{ij}}} = \\sum_{j \\neq i}{\\alpha_{t_{ji}} \\lambda_{t_{ji} i}} \\\\\n",
    "\\forall i \\neq j, \\quad & \\alpha_{t_{ij}} \\lambda_{t_{ij} j} = \\alpha_i \\lambda_{i t_{ij}}\n",
    "\\end{align}\n",
    "\n",
    "Combining both equations, we find that the $\\alpha_i$ are the solution of a linear system given by\n",
    "\n",
    "$$\\forall i, \\quad \\alpha_i \\left(\\sum_{j \\neq i}{\\lambda_{i t_{ij}}}\\right) - \\sum_{j \\neq i}{ \\alpha_j \\lambda_{j t_{ji}}} = 0$$\n",
    "\n",
    "Replacing the first of those constraints (which is redundent) by $$\\sum_{i}{\\alpha_i} = 1$$\n",
    "allows us to solve the system without getting the trivial solution $\\forall i, \\alpha_i = 0$.\n",
    "\n",
    "The $\\alpha_{t_{ij}}$ are then obtained from the $\\alpha_i$ with the second traffic equation. This two-step method is useful because we only have to solve a system in $N_s$ variables, and not $N_s^2$."
   ]
  },
  {
   "cell_type": "code",
   "execution_count": 10,
   "metadata": {
    "ExecuteTime": {
     "end_time": "2018-12-17T15:58:50.047000+01:00",
     "start_time": "2018-12-17T14:58:10.815Z"
    }
   },
   "outputs": [],
   "source": [
    "alpha_station, alpha_trip = compute_alpha(col);"
   ]
  },
  {
   "cell_type": "code",
   "execution_count": 11,
   "metadata": {
    "ExecuteTime": {
     "end_time": "2018-12-17T15:58:50.652000+01:00",
     "start_time": "2018-12-17T14:58:10.816Z"
    }
   },
   "outputs": [
    {
     "data": {
      "text/plain": [
       "5-element Array{Float64,1}:\n",
       " 0.21452558088665818\n",
       " 0.2059815546761553 \n",
       " 0.1814915242044868 \n",
       " 0.20641426572971042\n",
       " 0.19158707450298923"
      ]
     },
     "execution_count": 11,
     "metadata": {},
     "output_type": "execute_result"
    }
   ],
   "source": [
    "alpha_station"
   ]
  },
  {
   "cell_type": "code",
   "execution_count": 12,
   "metadata": {
    "ExecuteTime": {
     "end_time": "2018-12-17T15:58:50.654000+01:00",
     "start_time": "2018-12-17T14:58:10.818Z"
    }
   },
   "outputs": [
    {
     "data": {
      "text/plain": [
       "5×5 Array{Float64,2}:\n",
       " 0.0         0.00660739  0.0160179   0.0140157   0.0182204 \n",
       " 0.00431875  0.0         0.00863749  0.0133373   0.0177831 \n",
       " 0.0126439   0.0086511   0.0         0.0119784   0.0154722 \n",
       " 0.0163755   0.0158939   0.0158939   0.0         0.00674287\n",
       " 0.0185073   0.0246764   0.0257046   0.00675664  0.0       "
      ]
     },
     "execution_count": 12,
     "metadata": {},
     "output_type": "execute_result"
    }
   ],
   "source": [
    "alpha_trip"
   ]
  },
  {
   "cell_type": "markdown",
   "metadata": {},
   "source": [
    "## 12. One-bike state space"
   ]
  },
  {
   "cell_type": "markdown",
   "metadata": {},
   "source": [
    "In the one-bike case, the state space is $$E = \\left\\{ \\mathbf{n} = \\left( (n_i)_{i}, (n_{t_{ij}})_{(i, j), i \\neq j} \\right) \\quad | \\quad \\sum_{i}{n_i} + \\sum_{(i, j), i \\neq j}{n_{t_{ij}}} = 1 \\right\\}$$\n",
    "In other words, there is one state per station and one per trip."
   ]
  },
  {
   "cell_type": "markdown",
   "metadata": {},
   "source": [
    "## 13. One-bike emptiness probabilities"
   ]
  },
  {
   "cell_type": "markdown",
   "metadata": {},
   "source": [
    "The normalization factor of the stationary distribution is given by\n",
    "$$G_1 = \\sum_{i}{\\alpha_i} + \\sum_{i \\neq j}{\\alpha_{t_{ij}}}$$\n",
    "And the probability of a station being empty is simply:\n",
    "$$\\mathbb{P}(n_i = 0) = 1 - \\frac{\\alpha_i}{G_1}$$"
   ]
  },
  {
   "cell_type": "code",
   "execution_count": 13,
   "metadata": {
    "ExecuteTime": {
     "end_time": "2018-12-17T15:58:50.754000+01:00",
     "start_time": "2018-12-17T14:58:10.820Z"
    }
   },
   "outputs": [
    {
     "data": {
      "text/plain": [
       "5-element Array{Float64,1}:\n",
       " 0.8321704317214969\n",
       " 0.8388546706096625\n",
       " 0.8580139299585932\n",
       " 0.8385161482338817\n",
       " 0.8501158888898838"
      ]
     },
     "execution_count": 13,
     "metadata": {},
     "output_type": "execute_result"
    }
   ],
   "source": [
    "emptiness_proba_monobike(alpha_station, alpha_trip)"
   ]
  },
  {
   "cell_type": "markdown",
   "metadata": {},
   "source": [
    "## 14. Comparison with one-bike simulations"
   ]
  },
  {
   "cell_type": "code",
   "execution_count": 14,
   "metadata": {
    "ExecuteTime": {
     "end_time": "2018-12-17T15:58:54.315000+01:00",
     "start_time": "2018-12-17T14:58:10.821Z"
    }
   },
   "outputs": [
    {
     "name": "stderr",
     "output_type": "stream",
     "text": [
      "\u001b[32mSimulating trajectories 100%|███████████████████████████| Time: 0:00:04\u001b[39m\n"
     ]
    },
    {
     "data": {
      "text/html": [
       "<table class=\"data-frame\"><thead><tr><th></th><th>empty_end_freq</th><th>empty_end_freq_uncertainty</th><th>empty_duration_mean</th><th>empty_duration_mean_uncertainty</th></tr><tr><th></th><th>Float64</th><th>Float64</th><th>Float64</th><th>Float64</th></tr></thead><tbody><tr><th>1</th><td>0.832</td><td>0.0231841</td><td>0.83061</td><td>0.00134449</td></tr><tr><th>2</th><td>0.847</td><td>0.0223234</td><td>0.83946</td><td>0.00122375</td></tr><tr><th>3</th><td>0.847</td><td>0.0223234</td><td>0.857874</td><td>0.000961834</td></tr><tr><th>4</th><td>0.842</td><td>0.0226182</td><td>0.839031</td><td>0.00122986</td></tr><tr><th>5</th><td>0.855</td><td>0.0218344</td><td>0.850352</td><td>0.00103303</td></tr></tbody></table>"
      ],
      "text/latex": [
       "\\begin{tabular}{r|cccc}\n",
       "\t& empty\\_end\\_freq & empty\\_end\\_freq\\_uncertainty & empty\\_duration\\_mean & empty\\_duration\\_mean\\_uncertainty\\\\\n",
       "\t\\hline\n",
       "\t1 & 0.832 & 0.0231841 & 0.83061 & 0.00134449 \\\\\n",
       "\t2 & 0.847 & 0.0223234 & 0.83946 & 0.00122375 \\\\\n",
       "\t3 & 0.847 & 0.0223234 & 0.857874 & 0.000961834 \\\\\n",
       "\t4 & 0.842 & 0.0226182 & 0.839031 & 0.00122986 \\\\\n",
       "\t5 & 0.855 & 0.0218344 & 0.850352 & 0.00103303 \\\\\n",
       "\\end{tabular}\n"
      ],
      "text/plain": [
       "5×4 DataFrame. Omitted printing of 1 columns\n",
       "│ Row │ empty_end_freq │ empty_end_freq_uncertainty │ empty_duration_mean │\n",
       "│     │ \u001b[90mFloat64\u001b[39m        │ \u001b[90mFloat64\u001b[39m                    │ \u001b[90mFloat64\u001b[39m             │\n",
       "├─────┼────────────────┼────────────────────────────┼─────────────────────┤\n",
       "│ 1   │ 0.832          │ 0.0231841                  │ 0.83061             │\n",
       "│ 2   │ 0.847          │ 0.0223234                  │ 0.83946             │\n",
       "│ 3   │ 0.847          │ 0.0223234                  │ 0.857874            │\n",
       "│ 4   │ 0.842          │ 0.0226182                  │ 0.839031            │\n",
       "│ 5   │ 0.855          │ 0.0218344                  │ 0.850352            │"
      ]
     },
     "execution_count": 14,
     "metadata": {},
     "output_type": "execute_result"
    }
   ],
   "source": [
    "nb_simulations = 1000\n",
    "estimate_emptiness_monobike(col, max_time, nb_simulations)"
   ]
  }
 ],
 "metadata": {
  "kernelspec": {
   "display_name": "Julia 1.0.2",
   "language": "julia",
   "name": "julia-1.0"
  },
  "language_info": {
   "file_extension": ".jl",
   "mimetype": "application/julia",
   "name": "julia",
   "version": "1.0.2"
  }
 },
 "nbformat": 4,
 "nbformat_minor": 2
}
