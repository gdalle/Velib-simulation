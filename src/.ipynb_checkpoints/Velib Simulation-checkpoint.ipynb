{
 "cells": [
  {
   "cell_type": "markdown",
   "metadata": {},
   "source": [
    "# MPRO - FAT - Velib System Simulation\n",
    "## Guillaume Dalle & Julien Khamphousone"
   ]
  },
  {
   "cell_type": "code",
   "execution_count": 55,
   "metadata": {
    "ExecuteTime": {
     "end_time": "2019-01-13T21:07:54.023000+01:00",
     "start_time": "2019-01-13T20:07:53.967Z"
    }
   },
   "outputs": [
    {
     "name": "stdout",
     "output_type": "stream",
     "text": [
      "Imports successful\n"
     ]
    }
   ],
   "source": [
    "include(\"data.jl\")\n",
    "include(\"colony.jl\")\n",
    "include(\"simulation.jl\")\n",
    "include(\"stationary.jl\")\n",
    "println(\"Imports successful\")"
   ]
  },
  {
   "cell_type": "code",
   "execution_count": 56,
   "metadata": {
    "ExecuteTime": {
     "end_time": "2019-01-13T21:07:54.150000+01:00",
     "start_time": "2019-01-13T20:07:54.145Z"
    }
   },
   "outputs": [],
   "source": [
    "using Random\n",
    "Random.seed!(63);"
   ]
  },
  {
   "cell_type": "markdown",
   "metadata": {},
   "source": [
    "## 3. Calibration"
   ]
  },
  {
   "cell_type": "markdown",
   "metadata": {},
   "source": [
    "The numerical parameters are computed in and imported from the $\\texttt{data.jl}$ file."
   ]
  },
  {
   "cell_type": "code",
   "execution_count": 57,
   "metadata": {
    "ExecuteTime": {
     "end_time": "2019-01-13T21:07:54.766000+01:00",
     "start_time": "2019-01-13T20:07:54.762Z"
    }
   },
   "outputs": [
    {
     "data": {
      "text/plain": [
       "5×5 Array{Float64,2}:\n",
       " 0.0         0.0102667  0.0149333  0.00933333  0.0121333\n",
       " 0.0104833   0.0        0.0209667  0.01295     0.0172667\n",
       " 0.0174167   0.0238333  0.0        0.022       0.0284167\n",
       " 0.00991667  0.0128333  0.01925    0.0         0.0163333\n",
       " 0.0138      0.0184     0.0268333  0.0176333   0.0      "
      ]
     },
     "execution_count": 57,
     "metadata": {},
     "output_type": "execute_result"
    }
   ],
   "source": [
    "lambda_station_trip"
   ]
  },
  {
   "cell_type": "code",
   "execution_count": 58,
   "metadata": {
    "ExecuteTime": {
     "end_time": "2019-01-13T21:07:54.924000+01:00",
     "start_time": "2019-01-13T20:07:54.920Z"
    }
   },
   "outputs": [
    {
     "data": {
      "text/plain": [
       "5×5 Array{Float64,2}:\n",
       " 1.0842e-19  0.333333    0.2         0.142857    0.142857  \n",
       " 0.5         1.0842e-19  0.5         0.2         0.2       \n",
       " 0.25        0.5         1.0842e-19  0.333333    0.333333  \n",
       " 0.125       0.166667    0.25        1.0842e-19  0.5       \n",
       " 0.142857    0.142857    0.2         0.5         1.0842e-19"
      ]
     },
     "execution_count": 58,
     "metadata": {},
     "output_type": "execute_result"
    }
   ],
   "source": [
    "lambda_trip_station"
   ]
  },
  {
   "cell_type": "markdown",
   "metadata": {},
   "source": [
    "## 4. Simulation of a trajectory"
   ]
  },
  {
   "cell_type": "code",
   "execution_count": 59,
   "metadata": {
    "ExecuteTime": {
     "end_time": "2019-01-13T21:07:55.450000+01:00",
     "start_time": "2019-01-13T20:07:55.446Z"
    }
   },
   "outputs": [
    {
     "data": {
      "text/plain": [
       "5-element Array{Int64,1}:\n",
       " 20\n",
       " 16\n",
       " 17\n",
       " 13\n",
       " 18"
      ]
     },
     "execution_count": 59,
     "metadata": {},
     "output_type": "execute_result"
    }
   ],
   "source": [
    "nb_bikes_station"
   ]
  },
  {
   "cell_type": "code",
   "execution_count": 60,
   "metadata": {
    "ExecuteTime": {
     "end_time": "2019-01-13T21:07:55.644000+01:00",
     "start_time": "2019-01-13T20:07:55.641Z"
    }
   },
   "outputs": [
    {
     "data": {
      "text/plain": [
       "5×5 Array{Int64,2}:\n",
       " 0  1  0  0  0\n",
       " 1  0  1  0  0\n",
       " 0  1  0  1  0\n",
       " 0  0  1  0  1\n",
       " 0  0  0  1  0"
      ]
     },
     "execution_count": 60,
     "metadata": {},
     "output_type": "execute_result"
    }
   ],
   "source": [
    "nb_bikes_trip"
   ]
  },
  {
   "cell_type": "code",
   "execution_count": 61,
   "metadata": {
    "ExecuteTime": {
     "end_time": "2019-01-13T21:07:55.842000+01:00",
     "start_time": "2019-01-13T20:07:55.838Z"
    }
   },
   "outputs": [
    {
     "data": {
      "text/plain": [
       "9000.0"
      ]
     },
     "execution_count": 61,
     "metadata": {},
     "output_type": "execute_result"
    }
   ],
   "source": [
    "max_time = 150 * 60. # we count the time in minutes"
   ]
  },
  {
   "cell_type": "code",
   "execution_count": 62,
   "metadata": {
    "ExecuteTime": {
     "end_time": "2019-01-13T21:07:56.242000+01:00",
     "start_time": "2019-01-13T20:07:56.235Z"
    },
    "scrolled": true
   },
   "outputs": [],
   "source": [
    "col = Colonies(lambda_station_trip, lambda_trip_station);"
   ]
  },
  {
   "cell_type": "code",
   "execution_count": 63,
   "metadata": {
    "ExecuteTime": {
     "end_time": "2019-01-13T21:07:56.755000+01:00",
     "start_time": "2019-01-13T20:07:56.448Z"
    }
   },
   "outputs": [
    {
     "data": {
      "text/html": [
       "<table class=\"data-frame\"><thead><tr><th></th><th>time</th><th>transition_type</th><th>i</th><th>j</th></tr><tr><th></th><th>Float64</th><th>String</th><th>Int64</th><th>Int64</th></tr></thead><tbody><tr><th>1</th><td>0.433587</td><td>trip_station</td><td>4</td><td>3</td></tr><tr><th>2</th><td>0.8457</td><td>trip_station</td><td>5</td><td>4</td></tr><tr><th>3</th><td>0.881857</td><td>trip_station</td><td>3</td><td>2</td></tr><tr><th>4</th><td>1.10485</td><td>trip_station</td><td>3</td><td>4</td></tr><tr><th>5</th><td>1.79372</td><td>trip_station</td><td>2</td><td>1</td></tr><tr><th>6</th><td>3.06025</td><td>trip_station</td><td>1</td><td>2</td></tr></tbody></table>"
      ],
      "text/latex": [
       "\\begin{tabular}{r|cccc}\n",
       "\t& time & transition\\_type & i & j\\\\\n",
       "\t\\hline\n",
       "\t1 & 0.433587 & trip\\_station & 4 & 3 \\\\\n",
       "\t2 & 0.8457 & trip\\_station & 5 & 4 \\\\\n",
       "\t3 & 0.881857 & trip\\_station & 3 & 2 \\\\\n",
       "\t4 & 1.10485 & trip\\_station & 3 & 4 \\\\\n",
       "\t5 & 1.79372 & trip\\_station & 2 & 1 \\\\\n",
       "\t6 & 3.06025 & trip\\_station & 1 & 2 \\\\\n",
       "\\end{tabular}\n"
      ],
      "text/plain": [
       "6×4 DataFrame\n",
       "│ Row │ time     │ transition_type │ i     │ j     │\n",
       "│     │ \u001b[90mFloat64\u001b[39m  │ \u001b[90mString\u001b[39m          │ \u001b[90mInt64\u001b[39m │ \u001b[90mInt64\u001b[39m │\n",
       "├─────┼──────────┼─────────────────┼───────┼───────┤\n",
       "│ 1   │ 0.433587 │ trip_station    │ 4     │ 3     │\n",
       "│ 2   │ 0.8457   │ trip_station    │ 5     │ 4     │\n",
       "│ 3   │ 0.881857 │ trip_station    │ 3     │ 2     │\n",
       "│ 4   │ 1.10485  │ trip_station    │ 3     │ 4     │\n",
       "│ 5   │ 1.79372  │ trip_station    │ 2     │ 1     │\n",
       "│ 6   │ 3.06025  │ trip_station    │ 1     │ 2     │"
      ]
     },
     "execution_count": 63,
     "metadata": {},
     "output_type": "execute_result"
    }
   ],
   "source": [
    "new_col, transitions_history, empty_station_duration = simulate(\n",
    "    col, max_time, nb_bikes_station, nb_bikes_trip\n",
    ")\n",
    "head(transitions_history)"
   ]
  },
  {
   "cell_type": "markdown",
   "metadata": {},
   "source": [
    "We displayed the history of transitions for one simulated trajectory"
   ]
  },
  {
   "cell_type": "markdown",
   "metadata": {},
   "source": [
    "## 5, 6, 8. Probability of emptiness and confidence intervals"
   ]
  },
  {
   "cell_type": "code",
   "execution_count": 64,
   "metadata": {
    "ExecuteTime": {
     "end_time": "2019-01-13T21:08:15.807000+01:00",
     "start_time": "2019-01-13T20:07:58.137Z"
    },
    "scrolled": true
   },
   "outputs": [
    {
     "name": "stderr",
     "output_type": "stream",
     "text": [
      "\u001b[32mSimulating trajectories 100%|███████████████████████████| Time: 0:00:18\u001b[39m\n"
     ]
    },
    {
     "data": {
      "text/html": [
       "<table class=\"data-frame\"><thead><tr><th></th><th>empty_end_freq</th><th>empty_end_freq_uncertainty</th><th>empty_duration_mean</th><th>empty_duration_mean_uncertainty</th></tr><tr><th></th><th>Float64</th><th>Float64</th><th>Float64</th><th>Float64</th></tr></thead><tbody><tr><th>1</th><td>0.009</td><td>0.00585641</td><td>0.00784925</td><td>0.00118344</td></tr><tr><th>2</th><td>0.032</td><td>0.0109141</td><td>0.0226715</td><td>0.00198819</td></tr><tr><th>3</th><td>0.151</td><td>0.0222032</td><td>0.122304</td><td>0.00285211</td></tr><tr><th>4</th><td>0.043</td><td>0.0125795</td><td>0.0286295</td><td>0.0022124</td></tr><tr><th>5</th><td>0.098</td><td>0.018437</td><td>0.0780364</td><td>0.00272854</td></tr></tbody></table>"
      ],
      "text/latex": [
       "\\begin{tabular}{r|cccc}\n",
       "\t& empty\\_end\\_freq & empty\\_end\\_freq\\_uncertainty & empty\\_duration\\_mean & empty\\_duration\\_mean\\_uncertainty\\\\\n",
       "\t\\hline\n",
       "\t1 & 0.009 & 0.00585641 & 0.00784925 & 0.00118344 \\\\\n",
       "\t2 & 0.032 & 0.0109141 & 0.0226715 & 0.00198819 \\\\\n",
       "\t3 & 0.151 & 0.0222032 & 0.122304 & 0.00285211 \\\\\n",
       "\t4 & 0.043 & 0.0125795 & 0.0286295 & 0.0022124 \\\\\n",
       "\t5 & 0.098 & 0.018437 & 0.0780364 & 0.00272854 \\\\\n",
       "\\end{tabular}\n"
      ],
      "text/plain": [
       "5×4 DataFrame. Omitted printing of 1 columns\n",
       "│ Row │ empty_end_freq │ empty_end_freq_uncertainty │ empty_duration_mean │\n",
       "│     │ \u001b[90mFloat64\u001b[39m        │ \u001b[90mFloat64\u001b[39m                    │ \u001b[90mFloat64\u001b[39m             │\n",
       "├─────┼────────────────┼────────────────────────────┼─────────────────────┤\n",
       "│ 1   │ 0.009          │ 0.00585641                 │ 0.00784925          │\n",
       "│ 2   │ 0.032          │ 0.0109141                  │ 0.0226715           │\n",
       "│ 3   │ 0.151          │ 0.0222032                  │ 0.122304            │\n",
       "│ 4   │ 0.043          │ 0.0125795                  │ 0.0286295           │\n",
       "│ 5   │ 0.098          │ 0.018437                   │ 0.0780364           │"
      ]
     },
     "execution_count": 64,
     "metadata": {},
     "output_type": "execute_result"
    }
   ],
   "source": [
    "nb_simulations = 1000\n",
    "estimate_emptiness(col, max_time, nb_simulations, nb_bikes_station, nb_bikes_trip)"
   ]
  },
  {
   "cell_type": "markdown",
   "metadata": {},
   "source": [
    "Here we displayed, in order of columns:\n",
    "- The frequency of emptiness at the end time (150h) for every station\n",
    "- The uncertainty on that value\n",
    "- The mean duration each station spends empty\n",
    "- The uncertainty on that value\n",
    "\n",
    "For instance, the probability for station 3 of finishing the simulation with no bike is estimated at $0.151 \\pm 0.022$, while its expected empty duration is estimated at $0.122 \\pm 0.003$ ($\\times 150h$)."
   ]
  },
  {
   "cell_type": "markdown",
   "metadata": {},
   "source": [
    "## 7. Influence of initial conditions"
   ]
  },
  {
   "cell_type": "markdown",
   "metadata": {},
   "source": [
    "We first simulated our model with the initial conditions provided in the data:\n",
    "\n",
    "$$\\texttt{nb_bikes_station} = [20,  16,  17,  13,  18]$$\n",
    "\n",
    "$$\\texttt{nb_bikes_trip} = \\begin{bmatrix}\n",
    "        0 & 1 & 0 & 0 & 0 \\\\\n",
    "        1 & 0 & 1 & 0 & 0 \\\\\n",
    "        0 & 1 & 0 & 1 & 0 \\\\\n",
    "        0 & 0 & 1 & 0 & 1 \\\\\n",
    "        0 & 0 & 0 & 1 & 0\n",
    "\\end{bmatrix} $$\n",
    "\n",
    "For these standard parameters, we obtained the following percentage of time when each station is empty:\n",
    "\n",
    "$$\\begin{bmatrix}\n",
    "station & mean~emptiness~duration ~ (\\%)\\\\\n",
    "1 &0.8±0.1\\\\\n",
    "2 &2.3±0.2\\\\\n",
    "3 &12.2±0.3\\\\\n",
    "4 &2.9±0.2\\\\\n",
    "5 &7.8±0.3\\\\\n",
    "\\end{bmatrix}$$\n",
    "\n",
    "We tried several other initial conditions, defined randomly in $\\texttt{data.jl}$. For instance, one of them is :\n",
    "\n",
    "$$\\texttt{nb_bikes_station} = [5,18,0,0,33]$$\n",
    "$$\\texttt{nb_bikes_trip} = \\begin{bmatrix}\n",
    "         0 & 1 & 0 & 1 & 1\\\\\n",
    "         2 & 0 & 1 & 0 & 2\\\\\n",
    "         0 & 1 & 0 & 2 & 1\\\\\n",
    "         2 & 1 & 1 & 0 & 2\\\\\n",
    "         1 & 2 & 2 & 0 & 0\n",
    "\\end{bmatrix}$$\n",
    "\n",
    "For these initial conditions, the percentage (rounded at 3 digits) of time when each station is empty is :\n",
    "\n",
    "$$\\begin{bmatrix}\n",
    "station & mean~emptiness~duration (\\%)\\\\\n",
    "1 & 0.021±0.002\\\\\n",
    "2 &\t0.032±0.002\\\\\n",
    "3 & 0.099±0.003\\\\\n",
    "4 & 0.038±0.002\\\\\n",
    "5 &\t0.042±0.002\\\\\n",
    "\\end{bmatrix}$$\n",
    "\n",
    "\n",
    "The initial conditions of our model have an influence over the results obtained because 150 hours is not quite enough to be perfectly stationary.\n",
    "\n",
    "However, the orders of magnitude remain similar, and so do the ordering of the station with respect to their emptiness probability."
   ]
  },
  {
   "cell_type": "markdown",
   "metadata": {},
   "source": [
    "## 9. Stationnary state approximation\n",
    "\n",
    "If we consider that at 150 hours, the chain has already long reached stationarity, then the results of the question 8 may be better to approximate the stationnary probability than the result of question 5. \n",
    "\n",
    "Indeed, the percentage of time when the station is empty (Q8) may represent lots of observations of the stationary probability (ex. 100 hours out of 150), and so the mean emptiness duration can exploit a large part of the trajectory. On the other hand, the end time emptiness frequency only considers one observation per trajectory.\n",
    "\n",
    "Another way to answer is to note that the confidence intervals are much tighter with the \"empty duration\" method than with the \"emptiness frequency\"."
   ]
  },
  {
   "cell_type": "markdown",
   "metadata": {},
   "source": [
    "## 10. Better precision"
   ]
  },
  {
   "cell_type": "markdown",
   "metadata": {},
   "source": [
    "To be continued..."
   ]
  },
  {
   "cell_type": "markdown",
   "metadata": {},
   "source": [
    "## 11. Traffic equations"
   ]
  },
  {
   "cell_type": "markdown",
   "metadata": {},
   "source": [
    "The traffic equations in this closed migration process are given by:\n",
    "\n",
    "\\begin{align}\n",
    "\\forall i, \\quad & \\alpha_i \\sum_{j \\neq i}{\\lambda_{i t_{ij}}} = \\sum_{j \\neq i}{\\alpha_{t_{ji}} \\lambda_{t_{ji} i}} \\\\\n",
    "\\forall i \\neq j, \\quad & \\alpha_{t_{ij}} \\lambda_{t_{ij} j} = \\alpha_i \\lambda_{i t_{ij}}\n",
    "\\end{align}\n",
    "\n",
    "Combining both equations, we find that the $\\alpha_i$ are the solution of a linear system given by\n",
    "\n",
    "$$\\forall i, \\quad \\alpha_i \\left(\\sum_{j \\neq i}{\\lambda_{i t_{ij}}}\\right) - \\sum_{j \\neq i}{ \\alpha_j \\lambda_{j t_{ji}}} = 0$$\n",
    "\n",
    "Replacing the first of those constraints (which is redundent) by $$\\sum_{i}{\\alpha_i} = 1$$\n",
    "allows us to solve the system without getting the trivial solution $\\forall i, \\alpha_i = 0$.\n",
    "\n",
    "The $\\alpha_{t_{ij}}$ are then obtained from the $\\alpha_i$ with the second traffic equation. This two-step method is useful because we only have to solve a system in $N_s$ variables, and not $N_s^2$."
   ]
  },
  {
   "cell_type": "code",
   "execution_count": 16,
   "metadata": {
    "ExecuteTime": {
     "end_time": "2019-01-13T20:58:35.351000+01:00",
     "start_time": "2019-01-13T19:58:34.354Z"
    }
   },
   "outputs": [],
   "source": [
    "alpha_station, alpha_trip = compute_alpha(col);"
   ]
  },
  {
   "cell_type": "code",
   "execution_count": 17,
   "metadata": {
    "ExecuteTime": {
     "end_time": "2019-01-13T20:58:35.993000+01:00",
     "start_time": "2019-01-13T19:58:34.898Z"
    }
   },
   "outputs": [
    {
     "data": {
      "text/plain": [
       "5-element Array{Float64,1}:\n",
       " 0.21452558088665818\n",
       " 0.2059815546761553 \n",
       " 0.1814915242044868 \n",
       " 0.20641426572971042\n",
       " 0.19158707450298923"
      ]
     },
     "execution_count": 17,
     "metadata": {},
     "output_type": "execute_result"
    }
   ],
   "source": [
    "alpha_station"
   ]
  },
  {
   "cell_type": "code",
   "execution_count": 20,
   "metadata": {
    "ExecuteTime": {
     "end_time": "2019-01-13T20:58:57.718000+01:00",
     "start_time": "2019-01-13T19:58:57.714Z"
    }
   },
   "outputs": [
    {
     "data": {
      "text/plain": [
       "5×5 Array{Float64,2}:\n",
       " 0.0         0.00660739  0.0160179   0.0140157   0.0182204 \n",
       " 0.00431875  0.0         0.00863749  0.0133373   0.0177831 \n",
       " 0.0126439   0.0086511   0.0         0.0119784   0.0154722 \n",
       " 0.0163755   0.0158939   0.0158939   0.0         0.00674287\n",
       " 0.0185073   0.0246764   0.0257046   0.00675664  0.0       "
      ]
     },
     "execution_count": 20,
     "metadata": {},
     "output_type": "execute_result"
    }
   ],
   "source": [
    "alpha_trip"
   ]
  },
  {
   "cell_type": "markdown",
   "metadata": {},
   "source": [
    "## 12. One-bike state space"
   ]
  },
  {
   "cell_type": "markdown",
   "metadata": {},
   "source": [
    "In the one-bike case, the state space is $$E = \\left\\{ \\mathbf{n} = \\left( (n_i)_{i}, (n_{t_{ij}})_{(i, j), i \\neq j} \\right) \\quad | \\quad \\sum_{i}{n_i} + \\sum_{(i, j), i \\neq j}{n_{t_{ij}}} = 1 \\right\\}$$\n",
    "In other words, there is one state per station and one per trip."
   ]
  },
  {
   "cell_type": "markdown",
   "metadata": {},
   "source": [
    "## 13. One-bike emptiness probabilities"
   ]
  },
  {
   "cell_type": "markdown",
   "metadata": {},
   "source": [
    "The normalization factor of the stationary distribution is given by\n",
    "$$G_1 = \\sum_{i}{\\alpha_i} + \\sum_{i \\neq j}{\\alpha_{t_{ij}}}$$\n",
    "And the probability of a station being empty is simply:\n",
    "$$\\mathbb{P}(n_i = 0) = 1 - \\frac{\\alpha_i}{G_1}$$"
   ]
  },
  {
   "cell_type": "code",
   "execution_count": 21,
   "metadata": {
    "ExecuteTime": {
     "end_time": "2019-01-13T20:59:09.889000+01:00",
     "start_time": "2019-01-13T19:59:09.804Z"
    }
   },
   "outputs": [
    {
     "data": {
      "text/plain": [
       "5-element Array{Float64,1}:\n",
       " 0.8321704317214969\n",
       " 0.8388546706096625\n",
       " 0.8580139299585932\n",
       " 0.8385161482338817\n",
       " 0.8501158888898838"
      ]
     },
     "execution_count": 21,
     "metadata": {},
     "output_type": "execute_result"
    }
   ],
   "source": [
    "emptiness_proba_monobike(alpha_station, alpha_trip)"
   ]
  },
  {
   "cell_type": "markdown",
   "metadata": {},
   "source": [
    "All stations have more or less the same stationary probability of being empty, between $83\\%$ and $85\\%$."
   ]
  },
  {
   "cell_type": "markdown",
   "metadata": {},
   "source": [
    "## 14. Comparison with one-bike simulations"
   ]
  },
  {
   "cell_type": "code",
   "execution_count": 23,
   "metadata": {
    "ExecuteTime": {
     "end_time": "2019-01-13T21:01:21.386000+01:00",
     "start_time": "2019-01-13T20:00:53.855Z"
    }
   },
   "outputs": [
    {
     "name": "stderr",
     "output_type": "stream",
     "text": [
      "\u001b[32mSimulating trajectories 100%|███████████████████████████| Time: 0:00:28\u001b[39m\n"
     ]
    },
    {
     "data": {
      "text/html": [
       "<table class=\"data-frame\"><thead><tr><th></th><th>empty_end_freq</th><th>empty_end_freq_uncertainty</th><th>empty_duration_mean</th><th>empty_duration_mean_uncertainty</th></tr><tr><th></th><th>Float64</th><th>Float64</th><th>Float64</th><th>Float64</th></tr></thead><tbody><tr><th>1</th><td>0.8398</td><td>0.00718947</td><td>0.831035</td><td>0.000438001</td></tr><tr><th>2</th><td>0.8367</td><td>0.00724529</td><td>0.839204</td><td>0.000383203</td></tr><tr><th>3</th><td>0.8598</td><td>0.00680535</td><td>0.85808</td><td>0.000300489</td></tr><tr><th>4</th><td>0.8385</td><td>0.00721299</td><td>0.83915</td><td>0.000392915</td></tr><tr><th>5</th><td>0.843</td><td>0.00713085</td><td>0.850238</td><td>0.000327657</td></tr></tbody></table>"
      ],
      "text/latex": [
       "\\begin{tabular}{r|cccc}\n",
       "\t& empty\\_end\\_freq & empty\\_end\\_freq\\_uncertainty & empty\\_duration\\_mean & empty\\_duration\\_mean\\_uncertainty\\\\\n",
       "\t\\hline\n",
       "\t1 & 0.8398 & 0.00718947 & 0.831035 & 0.000438001 \\\\\n",
       "\t2 & 0.8367 & 0.00724529 & 0.839204 & 0.000383203 \\\\\n",
       "\t3 & 0.8598 & 0.00680535 & 0.85808 & 0.000300489 \\\\\n",
       "\t4 & 0.8385 & 0.00721299 & 0.83915 & 0.000392915 \\\\\n",
       "\t5 & 0.843 & 0.00713085 & 0.850238 & 0.000327657 \\\\\n",
       "\\end{tabular}\n"
      ],
      "text/plain": [
       "5×4 DataFrame. Omitted printing of 1 columns\n",
       "│ Row │ empty_end_freq │ empty_end_freq_uncertainty │ empty_duration_mean │\n",
       "│     │ \u001b[90mFloat64\u001b[39m        │ \u001b[90mFloat64\u001b[39m                    │ \u001b[90mFloat64\u001b[39m             │\n",
       "├─────┼────────────────┼────────────────────────────┼─────────────────────┤\n",
       "│ 1   │ 0.8398         │ 0.00718947                 │ 0.831035            │\n",
       "│ 2   │ 0.8367         │ 0.00724529                 │ 0.839204            │\n",
       "│ 3   │ 0.8598         │ 0.00680535                 │ 0.85808             │\n",
       "│ 4   │ 0.8385         │ 0.00721299                 │ 0.83915             │\n",
       "│ 5   │ 0.843          │ 0.00713085                 │ 0.850238            │"
      ]
     },
     "execution_count": 23,
     "metadata": {},
     "output_type": "execute_result"
    }
   ],
   "source": [
    "nb_simulations = 10000\n",
    "estimate_emptiness_monobike(col, max_time, nb_simulations)"
   ]
  },
  {
   "cell_type": "markdown",
   "metadata": {},
   "source": [
    "Fortunately, the theoretical values computed above mostly fall within the confidence intervals."
   ]
  }
 ],
 "metadata": {
  "kernelspec": {
   "display_name": "Julia 1.0.2",
   "language": "julia",
   "name": "julia-1.0"
  },
  "language_info": {
   "file_extension": ".jl",
   "mimetype": "application/julia",
   "name": "julia",
   "version": "1.0.2"
  },
  "latex_metadata": {
   "affiliation": "MPRO - École Polytechnique - ENSIIE",
   "author": "Guillaume DALLE & Julien KHAMPHOUSONE",
   "title": "Files d'Attente - Simulation Vélib"
  }
 },
 "nbformat": 4,
 "nbformat_minor": 2
}
