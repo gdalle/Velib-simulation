{
 "cells": [
  {
   "cell_type": "markdown",
   "metadata": {},
   "source": [
    "# MPRO - FAT - Velib System Simulation\n",
    "_Guillaume Dalle & Julien Khamphousone_"
   ]
  },
  {
   "cell_type": "code",
   "execution_count": 1,
   "metadata": {
    "ExecuteTime": {
     "end_time": "2019-01-13T21:51:53.744000+01:00",
     "start_time": "2019-01-13T20:51:52.241Z"
    }
   },
   "outputs": [],
   "source": [
    "using Random\n",
    "Random.seed!(63); # set a random seed to ensure reproducible results"
   ]
  },
  {
   "cell_type": "markdown",
   "metadata": {},
   "source": [
    "The code for the simulation is contained in the following files, available at https://gitlab.com/gdalle/fat-velib."
   ]
  },
  {
   "cell_type": "code",
   "execution_count": 2,
   "metadata": {
    "ExecuteTime": {
     "end_time": "2019-01-13T21:52:04.902000+01:00",
     "start_time": "2019-01-13T20:51:52.244Z"
    }
   },
   "outputs": [
    {
     "name": "stdout",
     "output_type": "stream",
     "text": [
      "Imports successful\n"
     ]
    }
   ],
   "source": [
    "include(\"data.jl\")\n",
    "include(\"colony.jl\")\n",
    "include(\"simulation.jl\")\n",
    "include(\"stationary.jl\")\n",
    "println(\"Imports successful\")"
   ]
  },
  {
   "cell_type": "markdown",
   "metadata": {},
   "source": [
    "## 3. Calibration"
   ]
  },
  {
   "cell_type": "markdown",
   "metadata": {},
   "source": [
    "The numerical parameters are computed in and imported from the $\\texttt{data.jl}$ file."
   ]
  },
  {
   "cell_type": "code",
   "execution_count": 3,
   "metadata": {
    "ExecuteTime": {
     "end_time": "2019-01-13T21:52:08.829000+01:00",
     "start_time": "2019-01-13T20:51:52.247Z"
    }
   },
   "outputs": [
    {
     "data": {
      "text/plain": [
       "5×5 Array{Float64,2}:\n",
       " 0.0         0.0102667  0.0149333  0.00933333  0.0121333\n",
       " 0.0104833   0.0        0.0209667  0.01295     0.0172667\n",
       " 0.0174167   0.0238333  0.0        0.022       0.0284167\n",
       " 0.00991667  0.0128333  0.01925    0.0         0.0163333\n",
       " 0.0138      0.0184     0.0268333  0.0176333   0.0      "
      ]
     },
     "execution_count": 3,
     "metadata": {},
     "output_type": "execute_result"
    }
   ],
   "source": [
    "lambda_station_trip"
   ]
  },
  {
   "cell_type": "code",
   "execution_count": 4,
   "metadata": {
    "ExecuteTime": {
     "end_time": "2019-01-13T21:52:08.841000+01:00",
     "start_time": "2019-01-13T20:51:52.248Z"
    }
   },
   "outputs": [
    {
     "data": {
      "text/plain": [
       "5×5 Array{Float64,2}:\n",
       " 1.0842e-19  0.333333    0.2         0.142857    0.142857  \n",
       " 0.5         1.0842e-19  0.5         0.2         0.2       \n",
       " 0.25        0.5         1.0842e-19  0.333333    0.333333  \n",
       " 0.125       0.166667    0.25        1.0842e-19  0.5       \n",
       " 0.142857    0.142857    0.2         0.5         1.0842e-19"
      ]
     },
     "execution_count": 4,
     "metadata": {},
     "output_type": "execute_result"
    }
   ],
   "source": [
    "lambda_trip_station"
   ]
  },
  {
   "cell_type": "markdown",
   "metadata": {},
   "source": [
    "## 4. Simulation of a trajectory"
   ]
  },
  {
   "cell_type": "code",
   "execution_count": 5,
   "metadata": {
    "ExecuteTime": {
     "end_time": "2019-01-13T21:52:09.557000+01:00",
     "start_time": "2019-01-13T20:51:52.253Z"
    }
   },
   "outputs": [
    {
     "data": {
      "text/plain": [
       "5-element Array{Int64,1}:\n",
       " 20\n",
       " 16\n",
       " 17\n",
       " 13\n",
       " 18"
      ]
     },
     "execution_count": 5,
     "metadata": {},
     "output_type": "execute_result"
    }
   ],
   "source": [
    "nb_bikes_station"
   ]
  },
  {
   "cell_type": "code",
   "execution_count": 6,
   "metadata": {
    "ExecuteTime": {
     "end_time": "2019-01-13T21:52:10.269000+01:00",
     "start_time": "2019-01-13T20:51:52.255Z"
    }
   },
   "outputs": [
    {
     "data": {
      "text/plain": [
       "5×5 Array{Int64,2}:\n",
       " 0  1  0  0  0\n",
       " 1  0  1  0  0\n",
       " 0  1  0  1  0\n",
       " 0  0  1  0  1\n",
       " 0  0  0  1  0"
      ]
     },
     "execution_count": 6,
     "metadata": {},
     "output_type": "execute_result"
    }
   ],
   "source": [
    "nb_bikes_trip"
   ]
  },
  {
   "cell_type": "code",
   "execution_count": 7,
   "metadata": {
    "ExecuteTime": {
     "end_time": "2019-01-13T21:52:10.558000+01:00",
     "start_time": "2019-01-13T20:51:52.256Z"
    }
   },
   "outputs": [
    {
     "data": {
      "text/plain": [
       "1000"
      ]
     },
     "execution_count": 7,
     "metadata": {},
     "output_type": "execute_result"
    }
   ],
   "source": [
    "max_time = 150 * 60. # we count the time in minutes\n",
    "nb_simulations = 1000"
   ]
  },
  {
   "cell_type": "code",
   "execution_count": 8,
   "metadata": {
    "ExecuteTime": {
     "end_time": "2019-01-13T21:52:10.626000+01:00",
     "start_time": "2019-01-13T20:51:52.258Z"
    },
    "scrolled": true
   },
   "outputs": [],
   "source": [
    "col = Colonies(lambda_station_trip, lambda_trip_station);"
   ]
  },
  {
   "cell_type": "code",
   "execution_count": 9,
   "metadata": {
    "ExecuteTime": {
     "end_time": "2019-01-13T21:52:14.134000+01:00",
     "start_time": "2019-01-13T20:51:52.261Z"
    }
   },
   "outputs": [
    {
     "data": {
      "text/html": [
       "<table class=\"data-frame\"><thead><tr><th></th><th>time</th><th>transition_type</th><th>i</th><th>j</th></tr><tr><th></th><th>Float64</th><th>String</th><th>Int64</th><th>Int64</th></tr></thead><tbody><tr><th>1</th><td>0.433587</td><td>trip_station</td><td>4</td><td>3</td></tr><tr><th>2</th><td>0.8457</td><td>trip_station</td><td>5</td><td>4</td></tr><tr><th>3</th><td>0.881857</td><td>trip_station</td><td>3</td><td>2</td></tr><tr><th>4</th><td>1.10485</td><td>trip_station</td><td>3</td><td>4</td></tr><tr><th>5</th><td>1.79372</td><td>trip_station</td><td>2</td><td>1</td></tr><tr><th>6</th><td>3.06025</td><td>trip_station</td><td>1</td><td>2</td></tr></tbody></table>"
      ],
      "text/latex": [
       "\\begin{tabular}{r|cccc}\n",
       "\t& time & transition\\_type & i & j\\\\\n",
       "\t\\hline\n",
       "\t1 & 0.433587 & trip\\_station & 4 & 3 \\\\\n",
       "\t2 & 0.8457 & trip\\_station & 5 & 4 \\\\\n",
       "\t3 & 0.881857 & trip\\_station & 3 & 2 \\\\\n",
       "\t4 & 1.10485 & trip\\_station & 3 & 4 \\\\\n",
       "\t5 & 1.79372 & trip\\_station & 2 & 1 \\\\\n",
       "\t6 & 3.06025 & trip\\_station & 1 & 2 \\\\\n",
       "\\end{tabular}\n"
      ],
      "text/plain": [
       "6×4 DataFrame\n",
       "│ Row │ time     │ transition_type │ i     │ j     │\n",
       "│     │ \u001b[90mFloat64\u001b[39m  │ \u001b[90mString\u001b[39m          │ \u001b[90mInt64\u001b[39m │ \u001b[90mInt64\u001b[39m │\n",
       "├─────┼──────────┼─────────────────┼───────┼───────┤\n",
       "│ 1   │ 0.433587 │ trip_station    │ 4     │ 3     │\n",
       "│ 2   │ 0.8457   │ trip_station    │ 5     │ 4     │\n",
       "│ 3   │ 0.881857 │ trip_station    │ 3     │ 2     │\n",
       "│ 4   │ 1.10485  │ trip_station    │ 3     │ 4     │\n",
       "│ 5   │ 1.79372  │ trip_station    │ 2     │ 1     │\n",
       "│ 6   │ 3.06025  │ trip_station    │ 1     │ 2     │"
      ]
     },
     "execution_count": 9,
     "metadata": {},
     "output_type": "execute_result"
    }
   ],
   "source": [
    "new_col, transitions_history, empty_station_duration = simulate(\n",
    "    col, max_time, nb_bikes_station, nb_bikes_trip\n",
    ")\n",
    "head(transitions_history)"
   ]
  },
  {
   "cell_type": "markdown",
   "metadata": {},
   "source": [
    "We displayed the history of transitions for one simulated trajectory"
   ]
  },
  {
   "cell_type": "markdown",
   "metadata": {},
   "source": [
    "## 5, 6, 8. Probability of emptiness and confidence intervals"
   ]
  },
  {
   "cell_type": "code",
   "execution_count": 10,
   "metadata": {
    "ExecuteTime": {
     "end_time": "2019-01-13T21:52:38.680000+01:00",
     "start_time": "2019-01-13T20:51:52.264Z"
    },
    "scrolled": true
   },
   "outputs": [
    {
     "name": "stderr",
     "output_type": "stream",
     "text": [
      "\u001b[32mSimulating trajectories 100%|███████████████████████████| Time: 0:00:23\u001b[39m\n"
     ]
    },
    {
     "data": {
      "text/html": [
       "<table class=\"data-frame\"><thead><tr><th></th><th>empty_end_freq</th><th>empty_end_freq_uncertainty</th><th>empty_duration_mean</th><th>empty_duration_mean_uncertainty</th></tr><tr><th></th><th>Float64</th><th>Float64</th><th>Float64</th><th>Float64</th></tr></thead><tbody><tr><th>1</th><td>0.009</td><td>0.00585641</td><td>0.00784925</td><td>0.00118344</td></tr><tr><th>2</th><td>0.032</td><td>0.0109141</td><td>0.0226715</td><td>0.00198819</td></tr><tr><th>3</th><td>0.151</td><td>0.0222032</td><td>0.122304</td><td>0.00285211</td></tr><tr><th>4</th><td>0.043</td><td>0.0125795</td><td>0.0286295</td><td>0.0022124</td></tr><tr><th>5</th><td>0.098</td><td>0.018437</td><td>0.0780364</td><td>0.00272854</td></tr></tbody></table>"
      ],
      "text/latex": [
       "\\begin{tabular}{r|cccc}\n",
       "\t& empty\\_end\\_freq & empty\\_end\\_freq\\_uncertainty & empty\\_duration\\_mean & empty\\_duration\\_mean\\_uncertainty\\\\\n",
       "\t\\hline\n",
       "\t1 & 0.009 & 0.00585641 & 0.00784925 & 0.00118344 \\\\\n",
       "\t2 & 0.032 & 0.0109141 & 0.0226715 & 0.00198819 \\\\\n",
       "\t3 & 0.151 & 0.0222032 & 0.122304 & 0.00285211 \\\\\n",
       "\t4 & 0.043 & 0.0125795 & 0.0286295 & 0.0022124 \\\\\n",
       "\t5 & 0.098 & 0.018437 & 0.0780364 & 0.00272854 \\\\\n",
       "\\end{tabular}\n"
      ],
      "text/plain": [
       "5×4 DataFrame. Omitted printing of 1 columns\n",
       "│ Row │ empty_end_freq │ empty_end_freq_uncertainty │ empty_duration_mean │\n",
       "│     │ \u001b[90mFloat64\u001b[39m        │ \u001b[90mFloat64\u001b[39m                    │ \u001b[90mFloat64\u001b[39m             │\n",
       "├─────┼────────────────┼────────────────────────────┼─────────────────────┤\n",
       "│ 1   │ 0.009          │ 0.00585641                 │ 0.00784925          │\n",
       "│ 2   │ 0.032          │ 0.0109141                  │ 0.0226715           │\n",
       "│ 3   │ 0.151          │ 0.0222032                  │ 0.122304            │\n",
       "│ 4   │ 0.043          │ 0.0125795                  │ 0.0286295           │\n",
       "│ 5   │ 0.098          │ 0.018437                   │ 0.0780364           │"
      ]
     },
     "execution_count": 10,
     "metadata": {},
     "output_type": "execute_result"
    }
   ],
   "source": [
    "estimate_emptiness(col, max_time, nb_simulations, nb_bikes_station, nb_bikes_trip)"
   ]
  },
  {
   "cell_type": "markdown",
   "metadata": {},
   "source": [
    "Here we displayed, in order of columns:\n",
    "- The frequency of emptiness at the end time (150h) for every station\n",
    "- The uncertainty on that value\n",
    "- The mean duration each station spends empty\n",
    "- The uncertainty on that value\n",
    "\n",
    "For instance, the probability for station 3 of finishing the simulation with no bike is estimated at $0.151 \\pm 0.022$, while its expected empty duration is estimated at $(0.122 \\pm 0.003) \\times 150h$."
   ]
  },
  {
   "cell_type": "markdown",
   "metadata": {},
   "source": [
    "## 7. Influence of initial conditions"
   ]
  },
  {
   "cell_type": "markdown",
   "metadata": {},
   "source": [
    "We first simulated our model with the initial conditions provided in the data.\n",
    "\n",
    "For this setting, we obtained the following percentage of time when each station is empty:\n",
    "\n",
    "$$\\begin{bmatrix}\n",
    "station & mean~emptiness~duration ~ (\\%)\\\\\n",
    "1 &0.78±0.12\\\\\n",
    "2 &2.27±0.20\\\\\n",
    "3 &12.23±0.29\\\\\n",
    "4 &2.86±0.22\\\\\n",
    "5 &7.80±0.27\\\\\n",
    "\\end{bmatrix}$$"
   ]
  },
  {
   "cell_type": "code",
   "execution_count": 11,
   "metadata": {
    "ExecuteTime": {
     "end_time": "2019-01-13T21:52:38.838000+01:00",
     "start_time": "2019-01-13T20:51:52.266Z"
    }
   },
   "outputs": [],
   "source": [
    "random_nb_bikes_station, random_nb_bikes_trip = define_random_initial_conditions();"
   ]
  },
  {
   "cell_type": "code",
   "execution_count": 12,
   "metadata": {
    "ExecuteTime": {
     "end_time": "2019-01-13T21:52:38.839000+01:00",
     "start_time": "2019-01-13T20:51:52.267Z"
    }
   },
   "outputs": [
    {
     "data": {
      "text/plain": [
       "5-element Array{Int64,1}:\n",
       "  4\n",
       "  9\n",
       "  0\n",
       " 18\n",
       " 39"
      ]
     },
     "execution_count": 12,
     "metadata": {},
     "output_type": "execute_result"
    }
   ],
   "source": [
    "random_nb_bikes_station"
   ]
  },
  {
   "cell_type": "code",
   "execution_count": 13,
   "metadata": {
    "ExecuteTime": {
     "end_time": "2019-01-13T21:52:38.841000+01:00",
     "start_time": "2019-01-13T20:51:52.271Z"
    }
   },
   "outputs": [
    {
     "data": {
      "text/plain": [
       "5×5 Array{Int64,2}:\n",
       " 0  1  1  1  2\n",
       " 0  0  2  2  0\n",
       " 0  0  0  1  1\n",
       " 2  1  1  0  2\n",
       " 2  1  0  2  0"
      ]
     },
     "execution_count": 13,
     "metadata": {},
     "output_type": "execute_result"
    }
   ],
   "source": [
    "random_nb_bikes_trip"
   ]
  },
  {
   "cell_type": "code",
   "execution_count": 14,
   "metadata": {
    "ExecuteTime": {
     "end_time": "2019-01-13T21:52:56.567000+01:00",
     "start_time": "2019-01-13T20:51:52.273Z"
    }
   },
   "outputs": [
    {
     "name": "stderr",
     "output_type": "stream",
     "text": [
      "\u001b[32mSimulating trajectories 100%|███████████████████████████| Time: 0:00:18\u001b[39m\n"
     ]
    },
    {
     "data": {
      "text/html": [
       "<table class=\"data-frame\"><thead><tr><th></th><th>empty_end_freq</th><th>empty_end_freq_uncertainty</th><th>empty_duration_mean</th><th>empty_duration_mean_uncertainty</th></tr><tr><th></th><th>Float64</th><th>Float64</th><th>Float64</th><th>Float64</th></tr></thead><tbody><tr><th>1</th><td>0.006</td><td>0.00478897</td><td>0.00824964</td><td>0.00120917</td></tr><tr><th>2</th><td>0.044</td><td>0.0127183</td><td>0.0244554</td><td>0.00201993</td></tr><tr><th>3</th><td>0.14</td><td>0.0215172</td><td>0.125485</td><td>0.00278177</td></tr><tr><th>4</th><td>0.034</td><td>0.0112383</td><td>0.0266072</td><td>0.00213945</td></tr><tr><th>5</th><td>0.112</td><td>0.0195564</td><td>0.079548</td><td>0.00295704</td></tr></tbody></table>"
      ],
      "text/latex": [
       "\\begin{tabular}{r|cccc}\n",
       "\t& empty\\_end\\_freq & empty\\_end\\_freq\\_uncertainty & empty\\_duration\\_mean & empty\\_duration\\_mean\\_uncertainty\\\\\n",
       "\t\\hline\n",
       "\t1 & 0.006 & 0.00478897 & 0.00824964 & 0.00120917 \\\\\n",
       "\t2 & 0.044 & 0.0127183 & 0.0244554 & 0.00201993 \\\\\n",
       "\t3 & 0.14 & 0.0215172 & 0.125485 & 0.00278177 \\\\\n",
       "\t4 & 0.034 & 0.0112383 & 0.0266072 & 0.00213945 \\\\\n",
       "\t5 & 0.112 & 0.0195564 & 0.079548 & 0.00295704 \\\\\n",
       "\\end{tabular}\n"
      ],
      "text/plain": [
       "5×4 DataFrame. Omitted printing of 1 columns\n",
       "│ Row │ empty_end_freq │ empty_end_freq_uncertainty │ empty_duration_mean │\n",
       "│     │ \u001b[90mFloat64\u001b[39m        │ \u001b[90mFloat64\u001b[39m                    │ \u001b[90mFloat64\u001b[39m             │\n",
       "├─────┼────────────────┼────────────────────────────┼─────────────────────┤\n",
       "│ 1   │ 0.006          │ 0.00478897                 │ 0.00824964          │\n",
       "│ 2   │ 0.044          │ 0.0127183                  │ 0.0244554           │\n",
       "│ 3   │ 0.14           │ 0.0215172                  │ 0.125485            │\n",
       "│ 4   │ 0.034          │ 0.0112383                  │ 0.0266072           │\n",
       "│ 5   │ 0.112          │ 0.0195564                  │ 0.079548            │"
      ]
     },
     "execution_count": 14,
     "metadata": {},
     "output_type": "execute_result"
    }
   ],
   "source": [
    "estimate_emptiness(col, max_time, nb_simulations, nb_bikes_station, nb_bikes_trip)"
   ]
  },
  {
   "cell_type": "markdown",
   "metadata": {},
   "source": [
    "We then tried randomly-defined intial conditions (printed above).\n",
    "\n",
    "For this new setting, we obtained the following percentage of time when each station is empty:\n",
    "\n",
    "$$\\begin{bmatrix}\n",
    "station & mean~emptiness~duration ~ (\\%)\\\\\n",
    "1 & 0.82 ± 0.12\\\\\n",
    "2 &\t2.45 ± 0.20\\\\\n",
    "3 & 12.54 ± 0.28\\\\\n",
    "4 & 2.66 ± 0.21\\\\\n",
    "5 &\t7.95 ± 0.30\\\\\n",
    "\\end{bmatrix}$$"
   ]
  },
  {
   "cell_type": "markdown",
   "metadata": {},
   "source": [
    "The initial conditions will always have an influence on the result, because unless the starting point is already the stationary distribution the process will never reach it exactly. However we can suspect this influence is negligible, since the confidence intervals on the estimated probabilities overlap."
   ]
  },
  {
   "cell_type": "markdown",
   "metadata": {},
   "source": [
    "## 9. Stationary state approximation\n",
    "\n",
    "If we consider that after 150 hours, the chain has already mixed more than enough, then the result of the question 8 may be better to approximate the stationary probability than the result of question 5. \n",
    "\n",
    "Indeed, the percentage of time when the station is empty (Q8) may include lots of observations of the (near-)stationary probability (eg. the last 100 hours out of 150), and so the mean emptiness duration can exploit a large part of the trajectory. On the other hand, the end time emptiness frequency only considers one observation per trajectory.\n",
    "\n",
    "Another way to answer is to note that the confidence intervals are much tighter with the \"empty duration\" method than with the \"emptiness frequency\"."
   ]
  },
  {
   "cell_type": "markdown",
   "metadata": {},
   "source": [
    "## 10. Better precision"
   ]
  },
  {
   "cell_type": "markdown",
   "metadata": {},
   "source": [
    "In line with the previous question, it would be better to perform more simulations to increase the precision, because 150h seems to be a well-chosen duration to ensure near-stationarity."
   ]
  },
  {
   "cell_type": "markdown",
   "metadata": {},
   "source": [
    "## 11. Traffic equations"
   ]
  },
  {
   "cell_type": "markdown",
   "metadata": {},
   "source": [
    "The traffic equations in this closed migration process are given by:\n",
    "\n",
    "\\begin{align}\n",
    "\\forall i, \\quad & \\alpha_i \\sum_{j \\neq i}{\\lambda_{i t_{ij}}} = \\sum_{j \\neq i}{\\alpha_{t_{ji}} \\lambda_{t_{ji} i}} \\\\\n",
    "\\forall i \\neq j, \\quad & \\alpha_{t_{ij}} \\lambda_{t_{ij} j} = \\alpha_i \\lambda_{i t_{ij}}\n",
    "\\end{align}\n",
    "\n",
    "Combining both equations, we find that the $\\alpha_i$ are the solution of a linear system given by\n",
    "\n",
    "$$\\forall i, \\quad \\alpha_i \\left(\\sum_{j \\neq i}{\\lambda_{i t_{ij}}}\\right) - \\sum_{j \\neq i}{ \\alpha_j \\lambda_{j t_{ji}}} = 0$$\n",
    "\n",
    "Replacing the first of those constraints (which is redundent) by $$\\sum_{i}{\\alpha_i} = 1$$\n",
    "allows us to solve the system without getting the trivial solution $\\forall i, \\alpha_i = 0$.\n",
    "\n",
    "The $\\alpha_{t_{ij}}$ are then obtained from the $\\alpha_i$ with the second traffic equation. This two-step method is useful because we only have to solve a system in $N_s$ variables, and not $N_s^2$."
   ]
  },
  {
   "cell_type": "code",
   "execution_count": 15,
   "metadata": {
    "ExecuteTime": {
     "end_time": "2019-01-13T21:52:57.553000+01:00",
     "start_time": "2019-01-13T20:51:52.275Z"
    }
   },
   "outputs": [],
   "source": [
    "alpha_station, alpha_trip = compute_alpha(col);"
   ]
  },
  {
   "cell_type": "code",
   "execution_count": 16,
   "metadata": {
    "ExecuteTime": {
     "end_time": "2019-01-13T21:52:58.179000+01:00",
     "start_time": "2019-01-13T20:51:52.280Z"
    }
   },
   "outputs": [
    {
     "data": {
      "text/plain": [
       "5-element Array{Float64,1}:\n",
       " 0.21452558088665818\n",
       " 0.2059815546761553 \n",
       " 0.1814915242044868 \n",
       " 0.20641426572971042\n",
       " 0.19158707450298923"
      ]
     },
     "execution_count": 16,
     "metadata": {},
     "output_type": "execute_result"
    }
   ],
   "source": [
    "alpha_station"
   ]
  },
  {
   "cell_type": "code",
   "execution_count": 17,
   "metadata": {
    "ExecuteTime": {
     "end_time": "2019-01-13T21:52:58.181000+01:00",
     "start_time": "2019-01-13T20:51:52.282Z"
    }
   },
   "outputs": [
    {
     "data": {
      "text/plain": [
       "5×5 Array{Float64,2}:\n",
       " 0.0         0.00660739  0.0160179   0.0140157   0.0182204 \n",
       " 0.00431875  0.0         0.00863749  0.0133373   0.0177831 \n",
       " 0.0126439   0.0086511   0.0         0.0119784   0.0154722 \n",
       " 0.0163755   0.0158939   0.0158939   0.0         0.00674287\n",
       " 0.0185073   0.0246764   0.0257046   0.00675664  0.0       "
      ]
     },
     "execution_count": 17,
     "metadata": {},
     "output_type": "execute_result"
    }
   ],
   "source": [
    "alpha_trip"
   ]
  },
  {
   "cell_type": "markdown",
   "metadata": {},
   "source": [
    "## 12. One-bike state space"
   ]
  },
  {
   "cell_type": "markdown",
   "metadata": {},
   "source": [
    "In the one-bike case, the state space is $$E = \\left\\{ \\mathbf{n} = \\left( (n_i)_{i}, (n_{t_{ij}})_{(i, j), i \\neq j} \\right) \\quad | \\quad \\sum_{i}{n_i} + \\sum_{(i, j), i \\neq j}{n_{t_{ij}}} = 1 \\right\\}$$\n",
    "In other words, there is one state per station and one per trip."
   ]
  },
  {
   "cell_type": "markdown",
   "metadata": {},
   "source": [
    "## 13. One-bike emptiness probabilities"
   ]
  },
  {
   "cell_type": "markdown",
   "metadata": {},
   "source": [
    "The normalization factor of the stationary distribution is given by\n",
    "$$G_1 = \\sum_{i}{\\alpha_i} + \\sum_{i \\neq j}{\\alpha_{t_{ij}}}$$\n",
    "And the probability of a station being empty is simply:\n",
    "$$\\mathbb{P}(n_i = 0) = 1 - \\frac{\\alpha_i}{G_1}$$"
   ]
  },
  {
   "cell_type": "code",
   "execution_count": 18,
   "metadata": {
    "ExecuteTime": {
     "end_time": "2019-01-13T21:52:58.258000+01:00",
     "start_time": "2019-01-13T20:51:52.284Z"
    }
   },
   "outputs": [
    {
     "data": {
      "text/plain": [
       "5-element Array{Float64,1}:\n",
       " 0.8321704317214969\n",
       " 0.8388546706096625\n",
       " 0.8580139299585932\n",
       " 0.8385161482338817\n",
       " 0.8501158888898838"
      ]
     },
     "execution_count": 18,
     "metadata": {},
     "output_type": "execute_result"
    }
   ],
   "source": [
    "emptiness_proba_monobike(alpha_station, alpha_trip)"
   ]
  },
  {
   "cell_type": "markdown",
   "metadata": {},
   "source": [
    "All stations have more or less the same stationary probability of being empty, between $83\\%$ and $85\\%$."
   ]
  },
  {
   "cell_type": "markdown",
   "metadata": {},
   "source": [
    "## 14. Comparison with one-bike simulations"
   ]
  },
  {
   "cell_type": "code",
   "execution_count": 19,
   "metadata": {
    "ExecuteTime": {
     "end_time": "2019-01-13T21:53:01.001000+01:00",
     "start_time": "2019-01-13T20:51:52.286Z"
    }
   },
   "outputs": [
    {
     "name": "stderr",
     "output_type": "stream",
     "text": [
      "\u001b[32mSimulating trajectories 100%|███████████████████████████| Time: 0:00:03\u001b[39m\n"
     ]
    },
    {
     "data": {
      "text/html": [
       "<table class=\"data-frame\"><thead><tr><th></th><th>empty_end_freq</th><th>empty_end_freq_uncertainty</th><th>empty_duration_mean</th><th>empty_duration_mean_uncertainty</th></tr><tr><th></th><th>Float64</th><th>Float64</th><th>Float64</th><th>Float64</th></tr></thead><tbody><tr><th>1</th><td>0.849</td><td>0.0222032</td><td>0.830747</td><td>0.00137401</td></tr><tr><th>2</th><td>0.842</td><td>0.0226182</td><td>0.838869</td><td>0.00123474</td></tr><tr><th>3</th><td>0.849</td><td>0.0222032</td><td>0.858803</td><td>0.00092348</td></tr><tr><th>4</th><td>0.839</td><td>0.0227912</td><td>0.838149</td><td>0.00126756</td></tr><tr><th>5</th><td>0.838</td><td>0.0228482</td><td>0.850638</td><td>0.00108675</td></tr></tbody></table>"
      ],
      "text/latex": [
       "\\begin{tabular}{r|cccc}\n",
       "\t& empty\\_end\\_freq & empty\\_end\\_freq\\_uncertainty & empty\\_duration\\_mean & empty\\_duration\\_mean\\_uncertainty\\\\\n",
       "\t\\hline\n",
       "\t1 & 0.849 & 0.0222032 & 0.830747 & 0.00137401 \\\\\n",
       "\t2 & 0.842 & 0.0226182 & 0.838869 & 0.00123474 \\\\\n",
       "\t3 & 0.849 & 0.0222032 & 0.858803 & 0.00092348 \\\\\n",
       "\t4 & 0.839 & 0.0227912 & 0.838149 & 0.00126756 \\\\\n",
       "\t5 & 0.838 & 0.0228482 & 0.850638 & 0.00108675 \\\\\n",
       "\\end{tabular}\n"
      ],
      "text/plain": [
       "5×4 DataFrame. Omitted printing of 1 columns\n",
       "│ Row │ empty_end_freq │ empty_end_freq_uncertainty │ empty_duration_mean │\n",
       "│     │ \u001b[90mFloat64\u001b[39m        │ \u001b[90mFloat64\u001b[39m                    │ \u001b[90mFloat64\u001b[39m             │\n",
       "├─────┼────────────────┼────────────────────────────┼─────────────────────┤\n",
       "│ 1   │ 0.849          │ 0.0222032                  │ 0.830747            │\n",
       "│ 2   │ 0.842          │ 0.0226182                  │ 0.838869            │\n",
       "│ 3   │ 0.849          │ 0.0222032                  │ 0.858803            │\n",
       "│ 4   │ 0.839          │ 0.0227912                  │ 0.838149            │\n",
       "│ 5   │ 0.838          │ 0.0228482                  │ 0.850638            │"
      ]
     },
     "execution_count": 19,
     "metadata": {},
     "output_type": "execute_result"
    }
   ],
   "source": [
    "estimate_emptiness_monobike(col, max_time, nb_simulations)"
   ]
  },
  {
   "cell_type": "markdown",
   "metadata": {},
   "source": [
    "Fortunately, the theoretical values computed above mostly fall within the confidence intervals of the simulation."
   ]
  }
 ],
 "metadata": {
  "kernelspec": {
   "display_name": "Julia 1.0.2",
   "language": "julia",
   "name": "julia-1.0"
  },
  "language_info": {
   "file_extension": ".jl",
   "mimetype": "application/julia",
   "name": "julia",
   "version": "1.0.2"
  },
  "latex_metadata": {
   "affiliation": "MPRO - École Polytechnique - ENSIIE",
   "author": "Guillaume DALLE & Julien KHAMPHOUSONE",
   "title": "Files d'Attente - Simulation Vélib"
  }
 },
 "nbformat": 4,
 "nbformat_minor": 2
}
